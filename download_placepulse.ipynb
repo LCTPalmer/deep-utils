{
 "cells": [
  {
   "cell_type": "code",
   "execution_count": 3,
   "metadata": {
    "collapsed": true
   },
   "outputs": [],
   "source": [
    "import numpy as np\n",
    "import pandas as pd\n",
    "import os"
   ]
  },
  {
   "cell_type": "code",
   "execution_count": 2,
   "metadata": {
    "collapsed": true
   },
   "outputs": [],
   "source": [
    "#set root for pp data\n",
    "pp_root = '/media/luke/Data/PlacePulse2'"
   ]
  },
  {
   "cell_type": "code",
   "execution_count": 5,
   "metadata": {
    "collapsed": false
   },
   "outputs": [],
   "source": [
    "df_pp = pd.read_csv(os.path.join(pp_root, 'votes.csv'))"
   ]
  },
  {
   "cell_type": "code",
   "execution_count": 6,
   "metadata": {
    "collapsed": false
   },
   "outputs": [
    {
     "data": {
      "text/html": [
       "<div>\n",
       "<table border=\"1\" class=\"dataframe\">\n",
       "  <thead>\n",
       "    <tr style=\"text-align: right;\">\n",
       "      <th></th>\n",
       "      <th>left_id</th>\n",
       "      <th>right_id</th>\n",
       "      <th>winner</th>\n",
       "      <th>left_lat</th>\n",
       "      <th>left_long</th>\n",
       "      <th>right_lat</th>\n",
       "      <th>right_long</th>\n",
       "      <th>category</th>\n",
       "    </tr>\n",
       "  </thead>\n",
       "  <tbody>\n",
       "    <tr>\n",
       "      <th>0</th>\n",
       "      <td>513d2dbefdc9f03587002515</td>\n",
       "      <td>51413b2ffdc9f049260058ca</td>\n",
       "      <td>left</td>\n",
       "      <td>41.935385</td>\n",
       "      <td>-87.696485</td>\n",
       "      <td>34.047847</td>\n",
       "      <td>-118.236107</td>\n",
       "      <td>wealthy</td>\n",
       "    </tr>\n",
       "    <tr>\n",
       "      <th>1</th>\n",
       "      <td>513d7e23fdc9f0358700733a</td>\n",
       "      <td>513d7ac3fdc9f0358700693f</td>\n",
       "      <td>equal</td>\n",
       "      <td>40.744156</td>\n",
       "      <td>-73.935579</td>\n",
       "      <td>-33.526384</td>\n",
       "      <td>-70.591309</td>\n",
       "      <td>depressing</td>\n",
       "    </tr>\n",
       "    <tr>\n",
       "      <th>2</th>\n",
       "      <td>50f60c4dbeb2fed91000028d</td>\n",
       "      <td>513cb652fdc9f03587000a1e</td>\n",
       "      <td>right</td>\n",
       "      <td>45.505837</td>\n",
       "      <td>-122.583705</td>\n",
       "      <td>29.752872</td>\n",
       "      <td>-95.298844</td>\n",
       "      <td>depressing</td>\n",
       "    </tr>\n",
       "    <tr>\n",
       "      <th>3</th>\n",
       "      <td>513d9ff9fdc9f0358700887c</td>\n",
       "      <td>513cd544fdc9f03587001efc</td>\n",
       "      <td>left</td>\n",
       "      <td>33.747093</td>\n",
       "      <td>-84.289843</td>\n",
       "      <td>-33.930831</td>\n",
       "      <td>18.406321</td>\n",
       "      <td>depressing</td>\n",
       "    </tr>\n",
       "    <tr>\n",
       "      <th>4</th>\n",
       "      <td>513f320cfdc9f0358700e030</td>\n",
       "      <td>513cc3acfdc9f035870016c3</td>\n",
       "      <td>left</td>\n",
       "      <td>52.551685</td>\n",
       "      <td>13.416548</td>\n",
       "      <td>29.763818</td>\n",
       "      <td>-95.394621</td>\n",
       "      <td>safety</td>\n",
       "    </tr>\n",
       "  </tbody>\n",
       "</table>\n",
       "</div>"
      ],
      "text/plain": [
       "                    left_id                  right_id winner   left_lat  \\\n",
       "0  513d2dbefdc9f03587002515  51413b2ffdc9f049260058ca   left  41.935385   \n",
       "1  513d7e23fdc9f0358700733a  513d7ac3fdc9f0358700693f  equal  40.744156   \n",
       "2  50f60c4dbeb2fed91000028d  513cb652fdc9f03587000a1e  right  45.505837   \n",
       "3  513d9ff9fdc9f0358700887c  513cd544fdc9f03587001efc   left  33.747093   \n",
       "4  513f320cfdc9f0358700e030  513cc3acfdc9f035870016c3   left  52.551685   \n",
       "\n",
       "    left_long  right_lat  right_long    category  \n",
       "0  -87.696485  34.047847 -118.236107     wealthy  \n",
       "1  -73.935579 -33.526384  -70.591309  depressing  \n",
       "2 -122.583705  29.752872  -95.298844  depressing  \n",
       "3  -84.289843 -33.930831   18.406321  depressing  \n",
       "4   13.416548  29.763818  -95.394621      safety  "
      ]
     },
     "execution_count": 6,
     "metadata": {},
     "output_type": "execute_result"
    }
   ],
   "source": [
    "df_pp.head()"
   ]
  },
  {
   "cell_type": "code",
   "execution_count": null,
   "metadata": {
    "collapsed": true
   },
   "outputs": [],
   "source": []
  }
 ],
 "metadata": {
  "kernelspec": {
   "display_name": "Python 2",
   "language": "python",
   "name": "python2"
  },
  "language_info": {
   "codemirror_mode": {
    "name": "ipython",
    "version": 2
   },
   "file_extension": ".py",
   "mimetype": "text/x-python",
   "name": "python",
   "nbconvert_exporter": "python",
   "pygments_lexer": "ipython2",
   "version": "2.7.11"
  }
 },
 "nbformat": 4,
 "nbformat_minor": 0
}
