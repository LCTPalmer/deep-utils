{
 "cells": [
  {
   "cell_type": "markdown",
   "metadata": {},
   "source": [
    "### Siamese network on mnist\n",
    "Predict which number is higher"
   ]
  },
  {
   "cell_type": "code",
   "execution_count": 1,
   "metadata": {
    "collapsed": false,
    "scrolled": true
   },
   "outputs": [
    {
     "name": "stderr",
     "output_type": "stream",
     "text": [
      "Using gpu device 0: GeForce GTX TITAN X (CNMeM is disabled, cuDNN 5103)\n"
     ]
    }
   ],
   "source": [
    "#lasagne imports\n",
    "%matplotlib inline\n",
    "import numpy as np\n",
    "import matplotlib.pyplot as plt\n",
    "from sklearn.preprocessing import OneHotEncoder\n",
    "\n",
    "import lasagne\n",
    "import lasagne.layers.dnn\n",
    "\n",
    "import theano\n",
    "import theano.tensor as T\n",
    "\n",
    "from collections import OrderedDict\n",
    "\n",
    "from IPython.display import clear_output"
   ]
  },
  {
   "cell_type": "code",
   "execution_count": 2,
   "metadata": {
    "collapsed": true
   },
   "outputs": [],
   "source": [
    "from datasets.load_mnist import load_dataset\n",
    "X_train, y_train, X_val, y_val, X_test, y_test = load_dataset()"
   ]
  },
  {
   "cell_type": "code",
   "execution_count": 3,
   "metadata": {
    "collapsed": false
   },
   "outputs": [
    {
     "data": {
      "text/plain": [
       "<matplotlib.image.AxesImage at 0x7feae2395950>"
      ]
     },
     "execution_count": 3,
     "metadata": {},
     "output_type": "execute_result"
    },
    {
     "data": {
      "image/png": "[encoded data removed]",
      "text/plain": [
       "<matplotlib.figure.Figure at 0x7feae4251810>"
      ]
     },
     "metadata": {},
     "output_type": "display_data"
    }
   ],
   "source": [
    "plt.imshow(X_train[0,0], cmap='gray')"
   ]
  },
  {
   "cell_type": "code",
   "execution_count": 4,
   "metadata": {
    "collapsed": true
   },
   "outputs": [],
   "source": [
    "def iterate_minibatches(inputs, targets, batchsize, shuffle=False):\n",
    "    assert len(inputs) == len(targets)\n",
    "    if shuffle:\n",
    "        indices = np.arange(len(inputs))\n",
    "        np.random.shuffle(indices)\n",
    "    for start_idx in range(0, len(inputs) - batchsize + 1, batchsize):\n",
    "        if shuffle:\n",
    "            excerpt = indices[start_idx:start_idx + batchsize]\n",
    "        else:\n",
    "            excerpt = slice(start_idx, start_idx + batchsize)\n",
    "            \n",
    "        ts = targets[excerpt]\n",
    "        ohe_labels = OneHotEncoder(10, sparse=False).fit_transform(ts[:,None])\n",
    "        yield inputs[excerpt], targets[excerpt]#ohe_labels"
   ]
  },
  {
   "cell_type": "code",
   "execution_count": 5,
   "metadata": {
    "collapsed": false
   },
   "outputs": [],
   "source": [
    "#batch generator classic\n",
    "def batch_gen_classic(batch_size, X, y):\n",
    "    num_samps  = len(X)\n",
    "    assert num_samps == len(y)\n",
    "    \n",
    "    inds = np.random.randint(low=0, high=num_samps-1, size=batch_size)\n",
    "    \n",
    "    inputs = X[inds]\n",
    "    labels = y[inds]\n",
    "    ohe_labels = OneHotEncoder(10, sparse=False).fit_transform(labels[:,None])\n",
    "\n",
    "    return inputs, ohe_labels\n",
    "    \n",
    "#batch generator pairwise perfect\n",
    "def batch_gen_pc(batch_size, X, y):\n",
    "    num_samps  = len(X)\n",
    "    assert num_samps == len(y)\n",
    "    \n",
    "    inds = np.random.randint(low=0, high=num_samps-1, size=batch_size)\n",
    "    \n",
    "    inputs = X[inds]\n",
    "    labels = y[inds]\n",
    "    \n",
    "    #turn the labels into pc results\n",
    "    pc_labels = labels[0::2] < labels[1::2] #where 1st of pair is bigger than 2nd\n",
    "    \n",
    "    return inputs, pc_labels.astype(int)\n",
    "\n",
    "#batch generator pairwise btl\n",
    "def batch_gen_pcbtl():\n",
    "    pass"
   ]
  },
  {
   "cell_type": "code",
   "execution_count": 9,
   "metadata": {
    "collapsed": false
   },
   "outputs": [],
   "source": [
    "#build mlp\n",
    "def mlp_feat_extract(X):\n",
    "    net = OrderedDict()\n",
    "\n",
    "    net['input'] = lasagne.layers.InputLayer(shape=(None, 1, 28, 28), input_var=X)\n",
    "\n",
    "    net['dense1'] = lasagne.layers.DenseLayer(net['input'], 1000, \\\n",
    "                                                   nonlinearity=lasagne.nonlinearities.rectify)\n",
    "\n",
    "    net['dense2'] = lasagne.layers.DenseLayer(net['dense1'], 1000, \\\n",
    "                                                   nonlinearity=lasagne.nonlinearities.rectify)\n",
    "\n",
    "    net['dense3'] = lasagne.layers.DenseLayer(net['dense2'], 100, \\\n",
    "                                                   nonlinearity=lasagne.nonlinearities.rectify)\n",
    "    \n",
    "    net['softmax'] = lasagne.layers.DenseLayer(net['dense3'], 10, \\\n",
    "                                                   nonlinearity=lasagne.nonlinearities.softmax)\n",
    "    return net\n",
    "\n",
    "def cnn_feat_extract(X):\n",
    "    net = OrderedDict()\n",
    "\n",
    "    net['input'] = lasagne.layers.InputLayer(shape=(None, 1, 28, 28), input_var=X)\n",
    "\n",
    "    \n",
    "    \n",
    "    ###----\n",
    "    net['conv1'] = lasagne.layers.Conv2DLayer(net['input'], num_filters=32, filter_size=(5,5), \\\n",
    "                                               nonlinearity=lasagne.nonlinearities.rectify)\n",
    "    net['pool1'] = lasagne.layers.MaxPool2DLayer(net['conv1'], pool_size=(2, 2))\n",
    "    ###----\n",
    "    \n",
    "    \n",
    "    ###-----\n",
    "    net['conv2'] = lasagne.layers.Conv2DLayer(net['pool1'], num_filters=32, filter_size=(3,3), \\\n",
    "                                              nonlinearity=lasagne.nonlinearities.rectify)\n",
    "    net['conv3'] = lasagne.layers.Conv2DLayer(net['conv2'], num_filters=16, filter_size=(3,3), \\\n",
    "                                              nonlinearity=lasagne.nonlinearities.rectify)\n",
    "    net['conv4'] = lasagne.layers.Conv2DLayer(net['conv3'], num_filters=16, filter_size=(3,3), \\\n",
    "                                              nonlinearity=lasagne.nonlinearities.rectify)\n",
    "    net['pool2'] = lasagne.layers.MaxPool2DLayer(net['conv4'], pool_size=(2, 2))\n",
    "    ###---\n",
    "    \n",
    "    \n",
    "    net['fc1'] = lasagne.layers.DenseLayer(net['pool2'], num_units=256, \\\n",
    "                                           nonlinearity=lasagne.nonlinearities.rectify)\n",
    "    \n",
    "    net['fc2'] = lasagne.layers.DenseLayer(net['fc1'], num_units=128, \\\n",
    "                                           nonlinearity=lasagne.nonlinearities.rectify)\n",
    "\n",
    "    return net\n",
    "\n",
    "def add_siamese(net):\n",
    "    #concatenate representations (halving the batch (i.e. zeroth) dimension)\n",
    "    layer_list = [net[layer] for layer in net]\n",
    "    current_shape = lasagne.layers.get_output_shape(layer_list[-1])\n",
    "    \n",
    "    new_shape = list(current_shape)\n",
    "    new_shape[0] = -1 #free the batch dimension\n",
    "    new_shape[1] = new_shape[1]*2 # double the 1st\n",
    "    new_shape = tuple(new_shape)\n",
    "\n",
    "    net['fusion'] = lasagne.layers.ReshapeLayer(layer_list[-1], new_shape)\n",
    "    \n",
    "    return net\n",
    "\n",
    "def add_softmax(net, num_units=10):\n",
    "    #concatenate representations (halving the batch (i.e. zeroth) dimension)\n",
    "    layer_list = [net[layer] for layer in net]\n",
    "    \n",
    "    #add softmax\n",
    "    net['softmax'] = lasagne.layers.DenseLayer(layer_list[-1], num_units=num_units, \\\n",
    "                                               nonlinearity=lasagne.nonlinearities.softmax)\n",
    "    \n",
    "    return net\n",
    "\n",
    "#explicit btl model\n",
    "class BTLLayer(lasagne.layers.Layer):\n",
    "    #takes a two column input - each column contains the value on some scale\n",
    "    def get_output_for(self, input, **kwargs):\n",
    "        #calculate the probs of pairwise comparison win\n",
    "        total_col = input[:,0] + input[:,1]\n",
    "        total_mat = T.extra_ops.repeat(x=total_col[:,None], repeats=2, axis=1)\n",
    "        return input/total_mat\n",
    "\n",
    "def add_btl(net):\n",
    "    layer_list = [net[layer] for layer in net]\n",
    "    net['reg'] = lasagne.layers.DenseLayer(layer_list[-1], num_units=1, \\\n",
    "                                               nonlinearity=lasagne.nonlinearities.sigmoid)\n",
    "    \n",
    "    #combine across 0th dimension \n",
    "    net['fusion'] = lasagne.layers.ReshapeLayer(net['reg'], (-1, 2)) #now has 2 columns\n",
    "    \n",
    "    #calc the btl probs\n",
    "    net['out'] = BTLLayer(net['fusion'])\n",
    "    return net"
   ]
  },
  {
   "cell_type": "code",
   "execution_count": 10,
   "metadata": {
    "collapsed": false
   },
   "outputs": [],
   "source": [
    "#calc output of network\n",
    "#initialise inputs and outputs\n",
    "X = T.tensor4('X')\n",
    "y = T.ivector('y') # <- need to specify the dim of the inputs and outputs\n",
    "\n",
    "#build and calc the net output\n",
    "net = cnn_feat_extract(X)\n",
    "net = add_btl(net)\n",
    "#net = add_siamese(net)\n",
    "#net = add_softmax(net, num_units=2)\n",
    "\n",
    "layer_list = [net[layer] for layer in net]\n",
    "full_output = lasagne.layers.get_output(layer_list)\n",
    "y_pred = full_output[-1]\n",
    "\n",
    "#calc the loss\n",
    "loss = lasagne.objectives.categorical_crossentropy(y_pred, y)\n",
    "loss = loss.mean() #mean over the batch\n",
    "acc = lasagne.objectives.categorical_accuracy(y_pred, y)\n",
    "acc = acc.mean()\n",
    "\n",
    "#get params and backprop loss across\n",
    "params = lasagne.layers.get_all_params(layer_list[-1], trainable=True)\n",
    "updates = lasagne.updates.nesterov_momentum(loss, params, learning_rate=.01, momentum=0.9)\n",
    "#updates = lasagne.updates.sgd(loss, params, learning_rate=.00001)\n",
    "\n",
    "#compile the functions\n",
    "from theano.compile.nanguardmode import NanGuardMode\n",
    "\n",
    "check_fn = theano.function(inputs = [X], outputs=full_output, allow_input_downcast=True)\n",
    "train_fn = theano.function(inputs = [X, y], outputs=loss, updates=updates, allow_input_downcast=True)\n",
    "pass_fn = theano.function(inputs=[X, y], outputs=[loss, acc, y_pred], allow_input_downcast=True) # <- for passing test data"
   ]
  },
  {
   "cell_type": "markdown",
   "metadata": {},
   "source": [
    "### Train (standard/classic)"
   ]
  },
  {
   "cell_type": "code",
   "execution_count": null,
   "metadata": {
    "collapsed": false,
    "scrolled": true
   },
   "outputs": [],
   "source": [
    "num_epochs = 100\n",
    "epoch_loss_hist = []\n",
    "for ep in xrange(num_epochs):\n",
    "    train_batches = 0\n",
    "    train_loss = 0\n",
    "    for Xb, yb in iterate_minibatches(X_train, y_train, 500, shuffle=True):\n",
    "        train_loss += train_fn(Xb, yb) # <- trains the network\n",
    "        train_batches += 1\n",
    "\n",
    "    #forward pass over validation data for reporting\n",
    "    val_loss = 0\n",
    "    val_batches = 0\n",
    "    val_acc = 0\n",
    "    for Xb, yb in iterate_minibatches(X_val, y_val, 500, shuffle=True):\n",
    "        vl, va, y_pred = pass_fn(Xb, yb) # <- trains the network\n",
    "        val_loss += vl\n",
    "        val_batches += 1\n",
    "        val_acc += va\n",
    "        \n",
    "    #report the results after each epoch\n",
    "    epoch_loss_hist.append({'train': train_loss/float(train_batches), 'val': val_loss/float(val_batches)})\n",
    "    print 'epoch {0} results: train loss of {1}, val acc of {2}'.format(ep, \n",
    "                                                                         train_loss/float(train_batches),\n",
    "                                                                         val_acc/float(val_batches))\n",
    "                                                                         #val_loss/float(val_batches))"
   ]
  },
  {
   "cell_type": "markdown",
   "metadata": {},
   "source": [
    "### Train (siamese)"
   ]
  },
  {
   "cell_type": "code",
   "execution_count": 11,
   "metadata": {
    "collapsed": false
   },
   "outputs": [
    {
     "name": "stdout",
     "output_type": "stream",
     "text": [
      "epoch 99 results: train loss of 0.11194749143, val acc of 0.948\n"
     ]
    }
   ],
   "source": [
    "num_epochs = 100\n",
    "batches_per_epoch = 100\n",
    "epoch_loss_hist = []\n",
    "for ep in xrange(num_epochs):\n",
    "    train_batches = 0\n",
    "    train_loss = 0\n",
    "    for _ in xrange(batches_per_epoch):\n",
    "        Xb, yb = batch_gen_pc(500, X_train, y_train)\n",
    "        train_loss += train_fn(Xb, yb) # <- trains the network\n",
    "        train_batches += 1\n",
    "\n",
    "    #forward pass over validation data for reporting\n",
    "    val_loss = 0\n",
    "    val_batches = 0\n",
    "    val_acc = 0\n",
    "    for _ in xrange(3):\n",
    "        Xb, yb = batch_gen_pc(500, X_train, y_train)\n",
    "        vl, va, y_pred = pass_fn(Xb, yb) # <- trains the network\n",
    "        val_loss += vl\n",
    "        val_batches += 1\n",
    "        val_acc += va\n",
    "        \n",
    "    #report the results after each epoch\n",
    "    clear_output()\n",
    "    epoch_loss_hist.append({'train': train_loss/float(train_batches), 'val': val_loss/float(val_batches)})\n",
    "    print 'epoch {0} results: train loss of {1}, val acc of {2}'.format(ep, \n",
    "                                                                         train_loss/float(train_batches),\n",
    "                                                                         val_acc/float(val_batches))\n",
    "                                                                         #val_loss/float(val_batches))"
   ]
  },
  {
   "cell_type": "code",
   "execution_count": 12,
   "metadata": {
    "collapsed": false
   },
   "outputs": [],
   "source": [
    "X_examples, labs = batch_gen_pc(100, X_val, y_val)\n",
    "full_output = check_fn(X_examples)"
   ]
  },
  {
   "cell_type": "code",
   "execution_count": 18,
   "metadata": {
    "collapsed": false
   },
   "outputs": [
    {
     "name": "stdout",
     "output_type": "stream",
     "text": [
      "[ 1.  0.]\n",
      "[  9.26622748e-02   3.52373384e-08]\n"
     ]
    },
    {
     "data": {
      "image/png": "[encoded data removed]",
      "text/plain": [
       "<matplotlib.figure.Figure at 0x7feac4d62610>"
      ]
     },
     "metadata": {},
     "output_type": "display_data"
    }
   ],
   "source": [
    "comp = 5\n",
    "indl = comp*2\n",
    "indr = 1+(comp*2)\n",
    "f, ax = plt.subplots(1, 2)\n",
    "ax[0].imshow(full_output[0][indl,0], cmap='gray')\n",
    "ax[1].imshow(full_output[0][indr,0], cmap='gray')\n",
    "print np.round(full_output[-1][comp])\n",
    "print full_output[-2][comp]"
   ]
  },
  {
   "cell_type": "markdown",
   "metadata": {
    "collapsed": true
   },
   "source": [
    "### TODO - create function which takes in an image and spits out the regression value\n",
    "can just use output from check_fn (full_output[-2]) iterate across examples in the val set, collecting stats, plot scatter plot of labels vs the regressed values"
   ]
  },
  {
   "cell_type": "code",
   "execution_count": null,
   "metadata": {
    "collapsed": true
   },
   "outputs": [],
   "source": []
  }
 ],
 "metadata": {
  "kernelspec": {
   "display_name": "Python 2",
   "language": "python",
   "name": "python2"
  },
  "language_info": {
   "codemirror_mode": {
    "name": "ipython",
    "version": 2
   },
   "file_extension": ".py",
   "mimetype": "text/x-python",
   "name": "python",
   "nbconvert_exporter": "python",
   "pygments_lexer": "ipython2",
   "version": "2.7.11"
  }
 },
 "nbformat": 4,
 "nbformat_minor": 0
}
